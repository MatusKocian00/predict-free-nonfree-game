{
 "cells": [
  {
   "cell_type": "markdown",
   "metadata": {
    "id": "8QcTRwFdUviZ"
   },
   "source": []
  },
  {
   "cell_type": "code",
   "execution_count": null,
   "metadata": {
    "colab": {
     "base_uri": "https://localhost:8080/"
    },
    "id": "lZzwuMKKT5mF",
    "outputId": "83389576-8f09-4661-9fbc-75ccc1671b1f"
   },
   "outputs": [],
   "source": []
  },
  {
   "cell_type": "code",
   "execution_count": null,
   "metadata": {
    "colab": {
     "base_uri": "https://localhost:8080/"
    },
    "id": "bavN9Hc0VU6W",
    "outputId": "4b827d40-6316-4b0a-9e76-babfc32ec57c"
   },
   "outputs": [],
   "source": [
    "train_data_path = \"train.csv\"\n",
    "print(train_data_path)\n",
    "test_data_path = \"test.csv\"\n"
   ]
  },
  {
   "cell_type": "code",
   "execution_count": 340,
   "metadata": {
    "colab": {
     "base_uri": "https://localhost:8080/"
    },
    "id": "Bj7PD6IIVdLd",
    "outputId": "e55f9f3a-e231-46a9-8229-4e96c072ccc1"
   },
   "outputs": [],
   "source": [
    "import pandas as pd\n",
    "import plotly.express as px\n",
    "\n",
    "train_data = pd.read_csv(train_data_path, low_memory=False)\n",
    "test_data = pd.read_csv(test_data_path, low_memory=False)"
   ]
  },
  {
   "cell_type": "code",
   "execution_count": 341,
   "metadata": {
    "id": "w7b7dZ-RrrxB"
   },
   "outputs": [],
   "source": [
    "train_data[\"D_release_date\"] = train_data[\"D_release_date\"].astype(str).map(lambda x : x[-4:]).astype(float)\n",
    "train_data[['owners_category']] = train_data[['D_owners']].apply(lambda col:pd.Categorical(col).codes)\n",
    "train_data[['D_reviews']] = train_data[['D_reviews']].apply(lambda col:pd.Categorical(col).codes)\n",
    "train_data.rename(columns={\"D_release_date\" : \"release_year\"}, inplace=True)"
   ]
  },
  {
   "cell_type": "code",
   "execution_count": null,
   "outputs": [],
   "source": [
    "graph_data = train_data[['D_reviews','ccu','VYMAZAT_price']]\n",
    "graph_data = graph_data.groupby(graph_data['D_reviews'], as_index=False)['ccu'].sum()\n",
    "\n",
    "fig = px.bar(graph_data, x='D_reviews', y='ccu')\n",
    "fig.write_image('reviews.png')"
   ],
   "metadata": {
    "collapsed": false
   }
  },
  {
   "cell_type": "code",
   "execution_count": null,
   "outputs": [],
   "source": [
    "graph_data = train_data[['D_reviews','ccu','VYMAZAT_price']]\n",
    "graph_data = graph_data.groupby(graph_data['D_reviews'], as_index=False)['VYMAZAT_price'].mean()\n",
    "\n",
    "fig = px.bar(graph_data, x='D_reviews', y='VYMAZAT_price')\n",
    "fig.write_image('reviews_price.png')"
   ],
   "metadata": {
    "collapsed": false
   }
  },
  {
   "cell_type": "code",
   "execution_count": null,
   "outputs": [],
   "source": [
    "both_cost_mean = train_data.loc[(train_data['is_multi_player'] == True) & (train_data['is_single_player'] == True), \"VYMAZAT_price\"].mean()\n",
    "single_player_cost_mean = train_data.loc[(train_data['is_multi_player'] == False) & (train_data['is_single_player'] == True), 'VYMAZAT_price'].mean()\n",
    "multi_player_cost_mean = train_data.loc[(train_data['is_multi_player'] == True) & (train_data['is_single_player'] == False),'VYMAZAT_price'].mean()\n",
    "\n",
    "import plotly.graph_objects as go\n",
    "fig = go.Figure(\n",
    "    data=[go.Bar(y=[both_cost_mean,multi_player_cost_mean, single_player_cost_mean],x=[\"Single+Multi\",\"MultiPlayer\",\"Single\"])],\n",
    "    layout_title_text=\"Priemerna cena hier podla poctu hracov\"\n",
    ")\n",
    "fig.write_image(\"average_by_sp.png\")\n",
    "\n"
   ],
   "metadata": {
    "collapsed": false
   }
  },
  {
   "cell_type": "code",
   "execution_count": null,
   "outputs": [],
   "source": [
    "reviews_price = train_data[['positive','negative',\"VYMAZAT_price\"]]\n",
    "reviews_price.sort_values(by=['positive'])\n",
    "#positive = train_data['positive'].values\n",
    "#negative = train_data['negative'].values\n",
    "#price = train_data['VYMAZAT_price'].values\n",
    "#positive\n",
    "\n"
   ],
   "metadata": {
    "collapsed": false
   }
  },
  {
   "cell_type": "markdown",
   "source": [],
   "metadata": {
    "collapsed": false
   }
  },
  {
   "cell_type": "code",
   "execution_count": null,
   "outputs": [],
   "source": [
    "train_data = train_data.dropna(axis=0, how='any')\n",
    "train_data.info()"
   ],
   "metadata": {
    "collapsed": false
   }
  },
  {
   "cell_type": "code",
   "execution_count": null,
   "outputs": [],
   "source": [
    "graph_data = train_data[[\"VYMAZAT_price\", \"languages\"]]\n",
    "graph_data = graph_data.groupby(graph_data['languages'], as_index=False).mean()\n",
    "fig = px.bar(graph_data, x='languages',y='VYMAZAT_price', title=\"Priemerna cena podla poctu jazykov\")\n",
    "fig.write_image(\"average_language.png\")"
   ],
   "metadata": {
    "collapsed": false
   }
  },
  {
   "cell_type": "code",
   "execution_count": null,
   "outputs": [],
   "source": [
    "graph_data = train_data[[\"release_year\",'is_single_player','is_multi_player']]\n",
    "both_data = graph_data.groupby(['release_year','is_multi_player','is_single_player']).size().reset_index(name=\"Oboje\")\n",
    "single_data = graph_data.groupby(['release_year','is_single_player']).size().reset_index(name=\"Single\")\n",
    "multi_data = graph_data.groupby(['release_year','is_multi_player']).size().reset_index(name=\"Multi\")\n",
    "\n",
    "single_data = single_data.loc[single_data['is_single_player'] == True]\n",
    "multi_data = multi_data.loc[multi_data['is_multi_player'] == True]\n",
    "both_data = both_data[both_data['is_single_player']==True]\n",
    "both_data = both_data[both_data['is_multi_player']==True]\n",
    "\n",
    "together = pd.merge(single_data,multi_data)\n",
    "together = pd.merge(together,both_data)\n",
    "together = together.drop(columns=['is_single_player','is_multi_player'])\n",
    "\n",
    "figure = px.bar(together, x=\"release_year\", y=[\"Single\", \"Multi\", \"Oboje\"], title=\"Roztriedenie hier pocas rokov\")\n",
    "figure.write_html(\"file.html\")"
   ],
   "metadata": {
    "collapsed": false
   }
  },
  {
   "cell_type": "code",
   "execution_count": null,
   "outputs": [],
   "source": [
    "graph_data = train_data[['D_reviews','ccu']]"
   ],
   "metadata": {
    "collapsed": false
   }
  },
  {
   "cell_type": "code",
   "execution_count": 342,
   "metadata": {
    "id": "e1D_836hsxVN"
   },
   "outputs": [],
   "source": [
    "test_data[\"D_release_date\"] = test_data[\"D_release_date\"].astype(str).map(lambda x : x[-4:]).astype(float)\n",
    "test_data[['owners_category']] = test_data[['D_owners']].apply(lambda col:pd.Categorical(col).codes)\n",
    "test_data[['D_reviews']] = test_data[['D_reviews']].apply(lambda col:pd.Categorical(col).codes)\n",
    "test_data.rename(columns={\"D_release_date\" : \"release_year\"}, inplace=True)"
   ]
  },
  {
   "cell_type": "code",
   "execution_count": 343,
   "metadata": {
    "id": "hgIDVQyaFGKi"
   },
   "outputs": [],
   "source": [
    "train_data = train_data.drop(['D_appid','D_name','coming_soon',\n",
    "                            \"D_developer\",\"D_publisher\",\"self_published\",\"score\",\"D_owners\",\n",
    "                            \"D_genre\",\"VYMAZAT_price\",'positive',\"publisher_est\",\"negative\",\n",
    "                            \"Addictive\", \"Beautiful\", \"Classic\", \"Competitive\", \"Emotional\", \"Epic\", \"Lore-Rich\", \"Masterpiece\", \"Well-Written\"], axis=1)"
   ]
  },
  {
   "cell_type": "code",
   "execution_count": 344,
   "metadata": {
    "id": "FTSD4MW5s9yo"
   },
   "outputs": [],
   "source": [
    "test_data = test_data.drop(['D_appid','D_name','coming_soon',\n",
    "                            \"D_developer\",\"D_publisher\",\"self_published\",\"score\",\"D_owners\",\n",
    "                            \"D_genre\",\"VYMAZAT_price\",'positive',\"negative\", \"publisher_est\",\n",
    "                            \"Addictive\", \"Beautiful\", \"Classic\", \"Competitive\", \"Emotional\", \"Epic\", \"Lore-Rich\", \"Masterpiece\", \"Well-Written\"], axis=1)"
   ]
  },
  {
   "cell_type": "code",
   "execution_count": null,
   "metadata": {
    "colab": {
     "base_uri": "https://localhost:8080/"
    },
    "id": "A-OKdBIWtGHa",
    "outputId": "8a4e8f04-8706-4039-dd49-6f2e254408a6"
   },
   "outputs": [],
   "source": [
    "test_data.info()"
   ]
  },
  {
   "cell_type": "code",
   "execution_count": null,
   "metadata": {
    "colab": {
     "base_uri": "https://localhost:8080/"
    },
    "id": "zY6a9o7rK3Wr",
    "outputId": "534bd5e8-e119-4e12-e48f-6bf49e047416"
   },
   "outputs": [],
   "source": [
    "train_data.info()"
   ]
  },
  {
   "cell_type": "code",
   "execution_count": 345,
   "metadata": {
    "id": "yaskripkjAVg"
   },
   "outputs": [],
   "source": [
    "my_tags = [\"Action\",\"Adventure\",\"Casual\",\"Experimental\",\"Puzzle\",\"RPG\",\"Simulation\",\"Strategy\",\"FPS\",'3D']"
   ]
  },
  {
   "cell_type": "code",
   "execution_count": 346,
   "metadata": {
    "id": "r3KLjHZqXEhi"
   },
   "outputs": [],
   "source": [
    "def getMyTags(x):\n",
    "    Dict = eval(str(x))\n",
    "    #print(Dict)\n",
    "    if type(Dict) == dict:\n",
    "      #print(list(Dict.keys()))\n",
    "      tags = list(Dict.keys())\n",
    "      return filter_tags(tags,my_tags)\n",
    "    return Dict\n",
    "\n",
    "def filter_tags(tags,filter_tags):\n",
    "    Output = [x for x in tags if x in filter_tags]\n",
    "    #print(Output)\n",
    "    return Output"
   ]
  },
  {
   "cell_type": "code",
   "execution_count": 347,
   "metadata": {
    "id": "i9CpYPrO8wJd"
   },
   "outputs": [],
   "source": [
    "train_data[\"D_tags\"] = train_data['D_tags'].astype(str).map(lambda x: getMyTags(x))\n",
    "train_data = train_data.dropna(axis=0, how='any')"
   ]
  },
  {
   "cell_type": "code",
   "execution_count": 348,
   "metadata": {
    "id": "1vmNabZYtMLF"
   },
   "outputs": [],
   "source": [
    "test_data[\"D_tags\"] = test_data['D_tags'].astype(str).map(lambda x: getMyTags(x))"
   ]
  },
  {
   "cell_type": "code",
   "execution_count": 349,
   "metadata": {
    "colab": {
     "base_uri": "https://localhost:8080/"
    },
    "id": "9j0fSgGVulxo",
    "outputId": "e817dd7f-cc71-48c4-d9d1-30e4412e76a3"
   },
   "outputs": [
    {
     "name": "stdout",
     "output_type": "stream",
     "text": [
      "<class 'pandas.core.frame.DataFrame'>\n",
      "RangeIndex: 1000 entries, 0 to 999\n",
      "Data columns (total 30 columns):\n",
      " #   Column                  Non-Null Count  Dtype  \n",
      "---  ------                  --------------  -----  \n",
      " 0   D_reviews               1000 non-null   int8   \n",
      " 1   release_year            1000 non-null   float64\n",
      " 2   is_free                 1000 non-null   bool   \n",
      " 3   ccu                     1000 non-null   int64  \n",
      " 4   english                 1000 non-null   bool   \n",
      " 5   languages               1000 non-null   float64\n",
      " 6   developer_est           1000 non-null   float64\n",
      " 7   has_dlc                 1000 non-null   bool   \n",
      " 8   has_website_linked      1000 non-null   bool   \n",
      " 9   has_controller_support  1000 non-null   bool   \n",
      " 10  is_single_player        1000 non-null   bool   \n",
      " 11  is_multi_player         1000 non-null   bool   \n",
      " 12  is_early_access         1000 non-null   bool   \n",
      " 13  mature_content          1000 non-null   bool   \n",
      " 14  Cult Classic            1000 non-null   bool   \n",
      " 15  Difficult               1000 non-null   bool   \n",
      " 16  Funny                   1000 non-null   bool   \n",
      " 17  Replay Value            1000 non-null   bool   \n",
      " 18  Short                   1000 non-null   bool   \n",
      " 19  owners_category         1000 non-null   int8   \n",
      " 20  3D                      1000 non-null   int64  \n",
      " 21  Action                  1000 non-null   int64  \n",
      " 22  Adventure               1000 non-null   int64  \n",
      " 23  Casual                  1000 non-null   int64  \n",
      " 24  Experimental            1000 non-null   int64  \n",
      " 25  FPS                     1000 non-null   int64  \n",
      " 26  Puzzle                  1000 non-null   int64  \n",
      " 27  RPG                     1000 non-null   int64  \n",
      " 28  Simulation              1000 non-null   int64  \n",
      " 29  Strategy                1000 non-null   int64  \n",
      "dtypes: bool(14), float64(3), int64(11), int8(2)\n",
      "memory usage: 125.1 KB\n"
     ]
    }
   ],
   "source": [
    "#OneHotEncodingTags\n",
    "from sklearn.preprocessing import MultiLabelBinarizer\n",
    "\n",
    "mlb = MultiLabelBinarizer()\n",
    "test_data = test_data.join(pd.DataFrame(mlb.fit_transform(test_data.pop('D_tags')),\n",
    "                          columns=mlb.classes_,\n",
    "                          index=test_data.index))\n",
    "test_data.info()"
   ]
  },
  {
   "cell_type": "code",
   "execution_count": 350,
   "metadata": {
    "id": "9ZpZlg26qlqS"
   },
   "outputs": [],
   "source": [
    "#OneHotEncodingTags\n",
    "from sklearn.preprocessing import MultiLabelBinarizer\n",
    "\n",
    "mlb = MultiLabelBinarizer()\n",
    "train_data = train_data.join(pd.DataFrame(mlb.fit_transform(train_data.pop('D_tags')),\n",
    "                          columns=mlb.classes_,\n",
    "                          index=train_data.index))\n",
    "train_data = train_data.astype(float)"
   ]
  },
  {
   "cell_type": "code",
   "execution_count": null,
   "outputs": [],
   "source": [
    "train_data"
   ],
   "metadata": {
    "collapsed": false
   }
  },
  {
   "cell_type": "code",
   "execution_count": null,
   "metadata": {
    "colab": {
     "base_uri": "https://localhost:8080/"
    },
    "id": "xyakNnMFFbJa",
    "outputId": "35fad9f2-0f97-4f4d-c1d3-ac81ff9229a4"
   },
   "outputs": [],
   "source": [
    "#Undersampling\n",
    "train_data = train_data.astype(float)\n",
    "train_data['is_free'].value_counts()\n",
    "free = train_data[train_data['is_free'] == float(1)]\n",
    "not_free = train_data[train_data['is_free']== float(0)]\n",
    "not_free = not_free.sample(n=len(free), random_state=101)\n",
    "df = pd.concat([free,not_free],axis=0)\n",
    "df['is_free'].value_counts()"
   ]
  },
  {
   "cell_type": "code",
   "execution_count": null,
   "metadata": {
    "colab": {
     "base_uri": "https://localhost:8080/",
     "height": 542
    },
    "id": "-NXK_dPVwCn-",
    "outputId": "d9494ede-8002-41ed-a0a2-c6516bd2fe30"
   },
   "outputs": [],
   "source": [
    "import plotly.express as px\n",
    "#Plot of number of games in each year\n",
    "values = train_data[\"release_year\"].value_counts().index\n",
    "names = train_data[\"release_year\"].value_counts().values\n",
    "fig = px.pie(train_data, values=names, names=values)\n",
    "fig.update_traces(textinfo='value',hoverinfo='label')\n",
    "fig.show()"
   ]
  },
  {
   "cell_type": "code",
   "execution_count": null,
   "metadata": {
    "colab": {
     "base_uri": "https://localhost:8080/",
     "height": 817
    },
    "id": "G1dcDdJ9b9Di",
    "outputId": "c4731e11-163d-430c-94b1-871d89e7645b"
   },
   "outputs": [],
   "source": [
    "import plotly.express as px\n",
    "corr = train_data.corr()\n",
    "fig = px.imshow(corr, height=800, width=1000)\n",
    "#fig.show()\n",
    "fig.write_image(\"fig1.png\")"
   ]
  },
  {
   "cell_type": "code",
   "execution_count": null,
   "metadata": {
    "colab": {
     "base_uri": "https://localhost:8080/",
     "height": 394
    },
    "id": "56gWQtnPupNt",
    "outputId": "9dae64b6-a1a0-4203-f9e9-4a89523aa59b"
   },
   "outputs": [],
   "source": [
    "train_data.describe()"
   ]
  },
  {
   "cell_type": "code",
   "execution_count": 351,
   "metadata": {
    "id": "6o7YbeumaDEa"
   },
   "outputs": [],
   "source": [
    "from sklearn import preprocessing\n",
    "from sklearn.preprocessing import MinMaxScaler\n",
    "\n",
    "train_data.describe()\n",
    "scaler = MinMaxScaler()\n",
    "scaler.fit(train_data)\n",
    "scaled = scaler.transform(train_data)\n",
    "scaled_df = pd.DataFrame(scaled, columns=train_data.columns)"
   ]
  },
  {
   "cell_type": "code",
   "execution_count": null,
   "outputs": [],
   "source": [
    "scaled_df.describe()"
   ],
   "metadata": {
    "collapsed": false
   }
  },
  {
   "cell_type": "code",
   "execution_count": 352,
   "metadata": {
    "id": "sX4QOqWmuwoW"
   },
   "outputs": [],
   "source": [
    "X = scaled_df.drop('is_free', axis=1)\n",
    "y = scaled_df['is_free']"
   ]
  },
  {
   "cell_type": "code",
   "execution_count": null,
   "metadata": {
    "id": "ZourK_lZm0-Y"
   },
   "outputs": [],
   "source": [
    "from sklearn.model_selection import train_test_split\n",
    "  \n",
    "# split into 80:20 ration\n",
    "#X_train, X_val, y_train, y_val = train_test_split(X, y, test_size = 0.2, random_state = 0)\n",
    "#print(\"Number transactions X_train dataset: \", X_train.shape)\n",
    "#print(\"Number transactions y_train dataset: \", y_train.shape)\n",
    "#print(\"Number transactions X_test dataset: \", X_val.shape)\n",
    "#print(\"Number transactions y_test dataset: \", y_val.shape)\\"
   ]
  },
  {
   "cell_type": "code",
   "execution_count": 353,
   "metadata": {
    "colab": {
     "base_uri": "https://localhost:8080/"
    },
    "id": "D-i1X1QRnP8L",
    "outputId": "339367c4-1184-40ee-9f6f-49cea80f13a3"
   },
   "outputs": [
    {
     "name": "stdout",
     "output_type": "stream",
     "text": [
      "After OverSampling, the shape of train_X: (91668, 29)\n",
      "After OverSampling, the shape of train_y: (91668,) \n",
      "\n",
      "After OverSampling, counts of label '1': 45834\n",
      "After OverSampling, counts of label '0': 45834\n"
     ]
    }
   ],
   "source": [
    "from imblearn.over_sampling import SMOTE\n",
    "sm = SMOTE(random_state = 2)\n",
    "X_train_res, y_train_res = sm.fit_resample(X, y.ravel())\n",
    "  \n",
    "print('After OverSampling, the shape of train_X: {}'.format(X_train_res.shape))\n",
    "print('After OverSampling, the shape of train_y: {} \\n'.format(y_train_res.shape))\n",
    "  \n",
    "print(\"After OverSampling, counts of label '1': {}\".format(sum(y_train_res == 1)))\n",
    "print(\"After OverSampling, counts of label '0': {}\".format(sum(y_train_res == 0)))\n",
    "\n",
    "#X_train, X_val, y_train, y_val = train_test_split(X_train_res, y_train_res, test_size = 0.2, random_state = 0)"
   ]
  },
  {
   "cell_type": "code",
   "execution_count": 354,
   "metadata": {
    "id": "LqvdeSK8GEKA"
   },
   "outputs": [],
   "source": [
    "from sklearn.model_selection import train_test_split\n",
    "X_train, X_val, y_train, y_val = train_test_split(X_train_res, y_train_res, test_size = 0.2, random_state = 101)"
   ]
  },
  {
   "cell_type": "code",
   "execution_count": 355,
   "metadata": {
    "id": "Z8MzY0JkB1AI"
   },
   "outputs": [],
   "source": [
    "from keras.models import Sequential\n",
    "from keras.layers import Dense, Activation\n",
    "import tensorflow as tf\n",
    "model = Sequential()\n",
    "model.add(Dense(92, input_shape=(X_train.shape[1],), activation='relu'))\n",
    "model.add(Dense(64, activation='relu'))\n",
    "model.add(Dense(1, activation='sigmoid'))"
   ]
  },
  {
   "cell_type": "code",
   "execution_count": 356,
   "metadata": {
    "id": "qYFx0nVVqcmH"
   },
   "outputs": [],
   "source": [
    "from keras.callbacks import EarlyStopping\n",
    "earlyStopFunction = EarlyStopping(monitor='val_loss', \n",
    "                           patience=10, restore_best_weights=True)"
   ]
  },
  {
   "cell_type": "code",
   "execution_count": 357,
   "metadata": {
    "colab": {
     "base_uri": "https://localhost:8080/"
    },
    "id": "ym6WAF-wCDtT",
    "outputId": "b6b00d84-985e-41d1-b960-f46671708270"
   },
   "outputs": [
    {
     "name": "stdout",
     "output_type": "stream",
     "text": [
      "Model: \"sequential_6\"\n",
      "_________________________________________________________________\n",
      " Layer (type)                Output Shape              Param #   \n",
      "=================================================================\n",
      " dense_15 (Dense)            (None, 92)                2760      \n",
      "                                                                 \n",
      " dense_16 (Dense)            (None, 64)                5952      \n",
      "                                                                 \n",
      " dense_17 (Dense)            (None, 1)                 65        \n",
      "                                                                 \n",
      "=================================================================\n",
      "Total params: 8,777\n",
      "Trainable params: 8,777\n",
      "Non-trainable params: 0\n",
      "_________________________________________________________________\n"
     ]
    }
   ],
   "source": [
    "model.compile(optimizer=tf.keras.optimizers.Adam(learning_rate=0.0001), loss='binary_crossentropy', metrics=['accuracy'])\n",
    "model.summary()"
   ]
  },
  {
   "cell_type": "code",
   "execution_count": 358,
   "metadata": {
    "colab": {
     "base_uri": "https://localhost:8080/"
    },
    "id": "aYBx-9L9CRJ_",
    "outputId": "db375a4c-d5f9-48b3-bf18-f276e6b0217a"
   },
   "outputs": [
    {
     "name": "stdout",
     "output_type": "stream",
     "text": [
      "Epoch 1/60\n",
      "2292/2292 [==============================] - 6s 2ms/step - loss: 0.6246 - accuracy: 0.6464 - val_loss: 0.5892 - val_accuracy: 0.6783\n",
      "Epoch 2/60\n",
      "2292/2292 [==============================] - 4s 2ms/step - loss: 0.5735 - accuracy: 0.6933 - val_loss: 0.5693 - val_accuracy: 0.6976\n",
      "Epoch 3/60\n",
      "2292/2292 [==============================] - 5s 2ms/step - loss: 0.5563 - accuracy: 0.7085 - val_loss: 0.5562 - val_accuracy: 0.7049\n",
      "Epoch 4/60\n",
      "2292/2292 [==============================] - 4s 2ms/step - loss: 0.5449 - accuracy: 0.7170 - val_loss: 0.5479 - val_accuracy: 0.7093\n",
      "Epoch 5/60\n",
      "2292/2292 [==============================] - 4s 2ms/step - loss: 0.5360 - accuracy: 0.7226 - val_loss: 0.5412 - val_accuracy: 0.7142\n",
      "Epoch 6/60\n",
      "2292/2292 [==============================] - 4s 2ms/step - loss: 0.5285 - accuracy: 0.7283 - val_loss: 0.5344 - val_accuracy: 0.7214\n",
      "Epoch 7/60\n",
      "2292/2292 [==============================] - 5s 2ms/step - loss: 0.5215 - accuracy: 0.7338 - val_loss: 0.5279 - val_accuracy: 0.7243\n",
      "Epoch 8/60\n",
      "2292/2292 [==============================] - 4s 2ms/step - loss: 0.5155 - accuracy: 0.7384 - val_loss: 0.5225 - val_accuracy: 0.7320\n",
      "Epoch 9/60\n",
      "2292/2292 [==============================] - 5s 2ms/step - loss: 0.5100 - accuracy: 0.7437 - val_loss: 0.5183 - val_accuracy: 0.7360\n",
      "Epoch 10/60\n",
      "2292/2292 [==============================] - 4s 2ms/step - loss: 0.5051 - accuracy: 0.7480 - val_loss: 0.5132 - val_accuracy: 0.7383\n",
      "Epoch 11/60\n",
      "2292/2292 [==============================] - 5s 2ms/step - loss: 0.5005 - accuracy: 0.7516 - val_loss: 0.5100 - val_accuracy: 0.7435\n",
      "Epoch 12/60\n",
      "2292/2292 [==============================] - 4s 2ms/step - loss: 0.4964 - accuracy: 0.7541 - val_loss: 0.5056 - val_accuracy: 0.7463\n",
      "Epoch 13/60\n",
      "2292/2292 [==============================] - 4s 2ms/step - loss: 0.4928 - accuracy: 0.7577 - val_loss: 0.5026 - val_accuracy: 0.7487\n",
      "Epoch 14/60\n",
      "2292/2292 [==============================] - 4s 2ms/step - loss: 0.4887 - accuracy: 0.7606 - val_loss: 0.4988 - val_accuracy: 0.7508\n",
      "Epoch 15/60\n",
      "2292/2292 [==============================] - 4s 2ms/step - loss: 0.4854 - accuracy: 0.7620 - val_loss: 0.5034 - val_accuracy: 0.7419\n",
      "Epoch 16/60\n",
      "2292/2292 [==============================] - 4s 2ms/step - loss: 0.4821 - accuracy: 0.7647 - val_loss: 0.4936 - val_accuracy: 0.7526\n",
      "Epoch 17/60\n",
      "2292/2292 [==============================] - 4s 2ms/step - loss: 0.4787 - accuracy: 0.7681 - val_loss: 0.4905 - val_accuracy: 0.7566\n",
      "Epoch 18/60\n",
      "2292/2292 [==============================] - 4s 2ms/step - loss: 0.4756 - accuracy: 0.7693 - val_loss: 0.4873 - val_accuracy: 0.7605\n",
      "Epoch 19/60\n",
      "2292/2292 [==============================] - 4s 2ms/step - loss: 0.4729 - accuracy: 0.7714 - val_loss: 0.4845 - val_accuracy: 0.7616\n",
      "Epoch 20/60\n",
      "2292/2292 [==============================] - 4s 2ms/step - loss: 0.4700 - accuracy: 0.7726 - val_loss: 0.4827 - val_accuracy: 0.7603\n",
      "Epoch 21/60\n",
      "2292/2292 [==============================] - 4s 2ms/step - loss: 0.4668 - accuracy: 0.7751 - val_loss: 0.4789 - val_accuracy: 0.7661\n",
      "Epoch 22/60\n",
      "2292/2292 [==============================] - 4s 2ms/step - loss: 0.4638 - accuracy: 0.7764 - val_loss: 0.4776 - val_accuracy: 0.7666\n",
      "Epoch 23/60\n",
      "2292/2292 [==============================] - 4s 2ms/step - loss: 0.4610 - accuracy: 0.7783 - val_loss: 0.4735 - val_accuracy: 0.7689\n",
      "Epoch 24/60\n",
      "2292/2292 [==============================] - 4s 2ms/step - loss: 0.4580 - accuracy: 0.7796 - val_loss: 0.4711 - val_accuracy: 0.7676\n",
      "Epoch 25/60\n",
      "2292/2292 [==============================] - 3s 1ms/step - loss: 0.4555 - accuracy: 0.7804 - val_loss: 0.4719 - val_accuracy: 0.7646\n",
      "Epoch 26/60\n",
      "2292/2292 [==============================] - 4s 2ms/step - loss: 0.4526 - accuracy: 0.7836 - val_loss: 0.4668 - val_accuracy: 0.7721\n",
      "Epoch 27/60\n",
      "2292/2292 [==============================] - 4s 2ms/step - loss: 0.4499 - accuracy: 0.7864 - val_loss: 0.4651 - val_accuracy: 0.7688\n",
      "Epoch 28/60\n",
      "2292/2292 [==============================] - 4s 2ms/step - loss: 0.4472 - accuracy: 0.7871 - val_loss: 0.4625 - val_accuracy: 0.7700\n",
      "Epoch 29/60\n",
      "2292/2292 [==============================] - 4s 2ms/step - loss: 0.4444 - accuracy: 0.7895 - val_loss: 0.4595 - val_accuracy: 0.7742\n",
      "Epoch 30/60\n",
      "2292/2292 [==============================] - 4s 2ms/step - loss: 0.4418 - accuracy: 0.7905 - val_loss: 0.4586 - val_accuracy: 0.7756\n",
      "Epoch 31/60\n",
      "2292/2292 [==============================] - 4s 2ms/step - loss: 0.4392 - accuracy: 0.7927 - val_loss: 0.4555 - val_accuracy: 0.7792\n",
      "Epoch 32/60\n",
      "2292/2292 [==============================] - 5s 2ms/step - loss: 0.4369 - accuracy: 0.7942 - val_loss: 0.4530 - val_accuracy: 0.7811\n",
      "Epoch 33/60\n",
      "2292/2292 [==============================] - 4s 2ms/step - loss: 0.4347 - accuracy: 0.7960 - val_loss: 0.4495 - val_accuracy: 0.7812\n",
      "Epoch 34/60\n",
      "2292/2292 [==============================] - 4s 2ms/step - loss: 0.4319 - accuracy: 0.7969 - val_loss: 0.4495 - val_accuracy: 0.7830\n",
      "Epoch 35/60\n",
      "2292/2292 [==============================] - 3s 1ms/step - loss: 0.4299 - accuracy: 0.7986 - val_loss: 0.4455 - val_accuracy: 0.7819\n",
      "Epoch 36/60\n",
      "2292/2292 [==============================] - 4s 2ms/step - loss: 0.4271 - accuracy: 0.7995 - val_loss: 0.4468 - val_accuracy: 0.7842\n",
      "Epoch 37/60\n",
      "2292/2292 [==============================] - 4s 2ms/step - loss: 0.4253 - accuracy: 0.8012 - val_loss: 0.4433 - val_accuracy: 0.7859\n",
      "Epoch 38/60\n",
      "2292/2292 [==============================] - 4s 2ms/step - loss: 0.4230 - accuracy: 0.8021 - val_loss: 0.4397 - val_accuracy: 0.7891\n",
      "Epoch 39/60\n",
      "2292/2292 [==============================] - 4s 2ms/step - loss: 0.4203 - accuracy: 0.8046 - val_loss: 0.4388 - val_accuracy: 0.7886\n",
      "Epoch 40/60\n",
      "2292/2292 [==============================] - 4s 2ms/step - loss: 0.4189 - accuracy: 0.8044 - val_loss: 0.4362 - val_accuracy: 0.7927\n",
      "Epoch 41/60\n",
      "2292/2292 [==============================] - 4s 2ms/step - loss: 0.4166 - accuracy: 0.8064 - val_loss: 0.4416 - val_accuracy: 0.7861\n",
      "Epoch 42/60\n",
      "2292/2292 [==============================] - 4s 2ms/step - loss: 0.4147 - accuracy: 0.8074 - val_loss: 0.4341 - val_accuracy: 0.7932\n",
      "Epoch 43/60\n",
      "2292/2292 [==============================] - 5s 2ms/step - loss: 0.4127 - accuracy: 0.8091 - val_loss: 0.4313 - val_accuracy: 0.7948\n",
      "Epoch 44/60\n",
      "2292/2292 [==============================] - 5s 2ms/step - loss: 0.4102 - accuracy: 0.8093 - val_loss: 0.4458 - val_accuracy: 0.7807\n",
      "Epoch 45/60\n",
      "2292/2292 [==============================] - 5s 2ms/step - loss: 0.4088 - accuracy: 0.8109 - val_loss: 0.4271 - val_accuracy: 0.7954\n",
      "Epoch 46/60\n",
      "2292/2292 [==============================] - 4s 2ms/step - loss: 0.4066 - accuracy: 0.8112 - val_loss: 0.4381 - val_accuracy: 0.7854\n",
      "Epoch 47/60\n",
      "2292/2292 [==============================] - 4s 2ms/step - loss: 0.4048 - accuracy: 0.8119 - val_loss: 0.4256 - val_accuracy: 0.7999\n",
      "Epoch 48/60\n",
      "2292/2292 [==============================] - 5s 2ms/step - loss: 0.4029 - accuracy: 0.8144 - val_loss: 0.4236 - val_accuracy: 0.7995\n",
      "Epoch 49/60\n",
      "2292/2292 [==============================] - 4s 2ms/step - loss: 0.4010 - accuracy: 0.8156 - val_loss: 0.4252 - val_accuracy: 0.7943\n",
      "Epoch 50/60\n",
      "2292/2292 [==============================] - 4s 2ms/step - loss: 0.3992 - accuracy: 0.8173 - val_loss: 0.4206 - val_accuracy: 0.8008\n",
      "Epoch 51/60\n",
      "2292/2292 [==============================] - 5s 2ms/step - loss: 0.3979 - accuracy: 0.8166 - val_loss: 0.4210 - val_accuracy: 0.7982\n",
      "Epoch 52/60\n",
      "2292/2292 [==============================] - 4s 2ms/step - loss: 0.3960 - accuracy: 0.8187 - val_loss: 0.4206 - val_accuracy: 0.8006\n",
      "Epoch 53/60\n",
      "2292/2292 [==============================] - 4s 2ms/step - loss: 0.3945 - accuracy: 0.8185 - val_loss: 0.4194 - val_accuracy: 0.8003\n",
      "Epoch 54/60\n",
      "2292/2292 [==============================] - 4s 2ms/step - loss: 0.3928 - accuracy: 0.8195 - val_loss: 0.4148 - val_accuracy: 0.8065\n",
      "Epoch 55/60\n",
      "2292/2292 [==============================] - 4s 2ms/step - loss: 0.3909 - accuracy: 0.8213 - val_loss: 0.4165 - val_accuracy: 0.8038\n",
      "Epoch 56/60\n",
      "2292/2292 [==============================] - 5s 2ms/step - loss: 0.3899 - accuracy: 0.8212 - val_loss: 0.4180 - val_accuracy: 0.8001\n",
      "Epoch 57/60\n",
      "2292/2292 [==============================] - 4s 2ms/step - loss: 0.3882 - accuracy: 0.8215 - val_loss: 0.4108 - val_accuracy: 0.8088\n",
      "Epoch 58/60\n",
      "2292/2292 [==============================] - 4s 2ms/step - loss: 0.3869 - accuracy: 0.8228 - val_loss: 0.4118 - val_accuracy: 0.8090\n",
      "Epoch 59/60\n",
      "2292/2292 [==============================] - 4s 2ms/step - loss: 0.3852 - accuracy: 0.8246 - val_loss: 0.4167 - val_accuracy: 0.7995\n",
      "Epoch 60/60\n",
      "2292/2292 [==============================] - 5s 2ms/step - loss: 0.3839 - accuracy: 0.8252 - val_loss: 0.4082 - val_accuracy: 0.8107\n"
     ]
    }
   ],
   "source": [
    "History = model.fit(X_train, y_train, epochs=60, validation_data=(X_val, y_val), callbacks=[earlyStopFunction])"
   ]
  },
  {
   "cell_type": "code",
   "execution_count": 360,
   "metadata": {
    "colab": {
     "base_uri": "https://localhost:8080/"
    },
    "id": "Yzyh3N170HCx",
    "outputId": "07448393-12fa-4a50-e933-0e2ef4a67e51"
   },
   "outputs": [
    {
     "name": "stdout",
     "output_type": "stream",
     "text": [
      "Evaluate on test data\n",
      "32/32 [==============================] - 0s 2ms/step - loss: 0.6499 - accuracy: 0.6600\n",
      "test loss, test acc: [0.6499001383781433, 0.6600000262260437]\n",
      "32/32 [==============================] - 0s 2ms/step\n"
     ]
    }
   ],
   "source": [
    "test_data = test_data.astype(float)\n",
    "scaled = scaler.transform(test_data)\n",
    "scaled_df_test = pd.DataFrame(scaled, columns=test_data.columns)\n",
    "x_test = scaled_df_test.drop('is_free', axis=1)\n",
    "y_test = scaled_df_test['is_free']\n",
    "print(\"Evaluate on test data\")\n",
    "results = model.evaluate(x_test, y_test)\n",
    "print(\"test loss, test acc:\", results)\n",
    "y_pred = model.predict(x_test).round()"
   ]
  },
  {
   "cell_type": "code",
   "execution_count": 362,
   "metadata": {
    "colab": {
     "base_uri": "https://localhost:8080/",
     "height": 542
    },
    "id": "_2N_GA7x33Gt",
    "outputId": "d5f4964c-0dea-41a7-8f1f-a2b690745431"
   },
   "outputs": [
    {
     "data": {
      "application/vnd.plotly.v1+json": {
       "data": [
        {
         "colorscale": [
          [
           0.0,
           "#0d0887"
          ],
          [
           0.1111111111111111,
           "#46039f"
          ],
          [
           0.2222222222222222,
           "#7201a8"
          ],
          [
           0.3333333333333333,
           "#9c179e"
          ],
          [
           0.4444444444444444,
           "#bd3786"
          ],
          [
           0.5555555555555556,
           "#d8576b"
          ],
          [
           0.6666666666666666,
           "#ed7953"
          ],
          [
           0.7777777777777778,
           "#fb9f3a"
          ],
          [
           0.8888888888888888,
           "#fdca26"
          ],
          [
           1.0,
           "#f0f921"
          ]
         ],
         "reversescale": false,
         "showscale": false,
         "x": [
          "Free",
          "Not Free"
         ],
         "y": [
          "Not Free",
          "Free"
         ],
         "z": [
          [
           198,
           302
          ],
          [
           358,
           142
          ]
         ],
         "type": "heatmap"
        }
       ],
       "layout": {
        "annotations": [
         {
          "font": {
           "color": "#FFFFFF"
          },
          "showarrow": false,
          "text": "198",
          "x": "Free",
          "xref": "x",
          "y": "Not Free",
          "yref": "y"
         },
         {
          "font": {
           "color": "#000000"
          },
          "showarrow": false,
          "text": "302",
          "x": "Not Free",
          "xref": "x",
          "y": "Not Free",
          "yref": "y"
         },
         {
          "font": {
           "color": "#000000"
          },
          "showarrow": false,
          "text": "358",
          "x": "Free",
          "xref": "x",
          "y": "Free",
          "yref": "y"
         },
         {
          "font": {
           "color": "#FFFFFF"
          },
          "showarrow": false,
          "text": "142",
          "x": "Not Free",
          "xref": "x",
          "y": "Free",
          "yref": "y"
         }
        ],
        "xaxis": {
         "dtick": 1,
         "gridcolor": "rgb(0, 0, 0)",
         "side": "top",
         "ticks": ""
        },
        "yaxis": {
         "dtick": 1,
         "ticks": "",
         "ticksuffix": "  "
        },
        "template": {
         "data": {
          "histogram2dcontour": [
           {
            "type": "histogram2dcontour",
            "colorbar": {
             "outlinewidth": 0,
             "ticks": ""
            },
            "colorscale": [
             [
              0.0,
              "#0d0887"
             ],
             [
              0.1111111111111111,
              "#46039f"
             ],
             [
              0.2222222222222222,
              "#7201a8"
             ],
             [
              0.3333333333333333,
              "#9c179e"
             ],
             [
              0.4444444444444444,
              "#bd3786"
             ],
             [
              0.5555555555555556,
              "#d8576b"
             ],
             [
              0.6666666666666666,
              "#ed7953"
             ],
             [
              0.7777777777777778,
              "#fb9f3a"
             ],
             [
              0.8888888888888888,
              "#fdca26"
             ],
             [
              1.0,
              "#f0f921"
             ]
            ]
           }
          ],
          "choropleth": [
           {
            "type": "choropleth",
            "colorbar": {
             "outlinewidth": 0,
             "ticks": ""
            }
           }
          ],
          "histogram2d": [
           {
            "type": "histogram2d",
            "colorbar": {
             "outlinewidth": 0,
             "ticks": ""
            },
            "colorscale": [
             [
              0.0,
              "#0d0887"
             ],
             [
              0.1111111111111111,
              "#46039f"
             ],
             [
              0.2222222222222222,
              "#7201a8"
             ],
             [
              0.3333333333333333,
              "#9c179e"
             ],
             [
              0.4444444444444444,
              "#bd3786"
             ],
             [
              0.5555555555555556,
              "#d8576b"
             ],
             [
              0.6666666666666666,
              "#ed7953"
             ],
             [
              0.7777777777777778,
              "#fb9f3a"
             ],
             [
              0.8888888888888888,
              "#fdca26"
             ],
             [
              1.0,
              "#f0f921"
             ]
            ]
           }
          ],
          "heatmap": [
           {
            "type": "heatmap",
            "colorbar": {
             "outlinewidth": 0,
             "ticks": ""
            },
            "colorscale": [
             [
              0.0,
              "#0d0887"
             ],
             [
              0.1111111111111111,
              "#46039f"
             ],
             [
              0.2222222222222222,
              "#7201a8"
             ],
             [
              0.3333333333333333,
              "#9c179e"
             ],
             [
              0.4444444444444444,
              "#bd3786"
             ],
             [
              0.5555555555555556,
              "#d8576b"
             ],
             [
              0.6666666666666666,
              "#ed7953"
             ],
             [
              0.7777777777777778,
              "#fb9f3a"
             ],
             [
              0.8888888888888888,
              "#fdca26"
             ],
             [
              1.0,
              "#f0f921"
             ]
            ]
           }
          ],
          "heatmapgl": [
           {
            "type": "heatmapgl",
            "colorbar": {
             "outlinewidth": 0,
             "ticks": ""
            },
            "colorscale": [
             [
              0.0,
              "#0d0887"
             ],
             [
              0.1111111111111111,
              "#46039f"
             ],
             [
              0.2222222222222222,
              "#7201a8"
             ],
             [
              0.3333333333333333,
              "#9c179e"
             ],
             [
              0.4444444444444444,
              "#bd3786"
             ],
             [
              0.5555555555555556,
              "#d8576b"
             ],
             [
              0.6666666666666666,
              "#ed7953"
             ],
             [
              0.7777777777777778,
              "#fb9f3a"
             ],
             [
              0.8888888888888888,
              "#fdca26"
             ],
             [
              1.0,
              "#f0f921"
             ]
            ]
           }
          ],
          "contourcarpet": [
           {
            "type": "contourcarpet",
            "colorbar": {
             "outlinewidth": 0,
             "ticks": ""
            }
           }
          ],
          "contour": [
           {
            "type": "contour",
            "colorbar": {
             "outlinewidth": 0,
             "ticks": ""
            },
            "colorscale": [
             [
              0.0,
              "#0d0887"
             ],
             [
              0.1111111111111111,
              "#46039f"
             ],
             [
              0.2222222222222222,
              "#7201a8"
             ],
             [
              0.3333333333333333,
              "#9c179e"
             ],
             [
              0.4444444444444444,
              "#bd3786"
             ],
             [
              0.5555555555555556,
              "#d8576b"
             ],
             [
              0.6666666666666666,
              "#ed7953"
             ],
             [
              0.7777777777777778,
              "#fb9f3a"
             ],
             [
              0.8888888888888888,
              "#fdca26"
             ],
             [
              1.0,
              "#f0f921"
             ]
            ]
           }
          ],
          "surface": [
           {
            "type": "surface",
            "colorbar": {
             "outlinewidth": 0,
             "ticks": ""
            },
            "colorscale": [
             [
              0.0,
              "#0d0887"
             ],
             [
              0.1111111111111111,
              "#46039f"
             ],
             [
              0.2222222222222222,
              "#7201a8"
             ],
             [
              0.3333333333333333,
              "#9c179e"
             ],
             [
              0.4444444444444444,
              "#bd3786"
             ],
             [
              0.5555555555555556,
              "#d8576b"
             ],
             [
              0.6666666666666666,
              "#ed7953"
             ],
             [
              0.7777777777777778,
              "#fb9f3a"
             ],
             [
              0.8888888888888888,
              "#fdca26"
             ],
             [
              1.0,
              "#f0f921"
             ]
            ]
           }
          ],
          "mesh3d": [
           {
            "type": "mesh3d",
            "colorbar": {
             "outlinewidth": 0,
             "ticks": ""
            }
           }
          ],
          "scatter": [
           {
            "marker": {
             "line": {
              "color": "#283442"
             }
            },
            "type": "scatter"
           }
          ],
          "parcoords": [
           {
            "type": "parcoords",
            "line": {
             "colorbar": {
              "outlinewidth": 0,
              "ticks": ""
             }
            }
           }
          ],
          "scatterpolargl": [
           {
            "type": "scatterpolargl",
            "marker": {
             "colorbar": {
              "outlinewidth": 0,
              "ticks": ""
             }
            }
           }
          ],
          "bar": [
           {
            "error_x": {
             "color": "#f2f5fa"
            },
            "error_y": {
             "color": "#f2f5fa"
            },
            "marker": {
             "line": {
              "color": "rgb(17,17,17)",
              "width": 0.5
             },
             "pattern": {
              "fillmode": "overlay",
              "size": 10,
              "solidity": 0.2
             }
            },
            "type": "bar"
           }
          ],
          "scattergeo": [
           {
            "type": "scattergeo",
            "marker": {
             "colorbar": {
              "outlinewidth": 0,
              "ticks": ""
             }
            }
           }
          ],
          "scatterpolar": [
           {
            "type": "scatterpolar",
            "marker": {
             "colorbar": {
              "outlinewidth": 0,
              "ticks": ""
             }
            }
           }
          ],
          "histogram": [
           {
            "marker": {
             "pattern": {
              "fillmode": "overlay",
              "size": 10,
              "solidity": 0.2
             }
            },
            "type": "histogram"
           }
          ],
          "scattergl": [
           {
            "marker": {
             "line": {
              "color": "#283442"
             }
            },
            "type": "scattergl"
           }
          ],
          "scatter3d": [
           {
            "type": "scatter3d",
            "line": {
             "colorbar": {
              "outlinewidth": 0,
              "ticks": ""
             }
            },
            "marker": {
             "colorbar": {
              "outlinewidth": 0,
              "ticks": ""
             }
            }
           }
          ],
          "scattermapbox": [
           {
            "type": "scattermapbox",
            "marker": {
             "colorbar": {
              "outlinewidth": 0,
              "ticks": ""
             }
            }
           }
          ],
          "scatterternary": [
           {
            "type": "scatterternary",
            "marker": {
             "colorbar": {
              "outlinewidth": 0,
              "ticks": ""
             }
            }
           }
          ],
          "scattercarpet": [
           {
            "type": "scattercarpet",
            "marker": {
             "colorbar": {
              "outlinewidth": 0,
              "ticks": ""
             }
            }
           }
          ],
          "carpet": [
           {
            "aaxis": {
             "endlinecolor": "#A2B1C6",
             "gridcolor": "#506784",
             "linecolor": "#506784",
             "minorgridcolor": "#506784",
             "startlinecolor": "#A2B1C6"
            },
            "baxis": {
             "endlinecolor": "#A2B1C6",
             "gridcolor": "#506784",
             "linecolor": "#506784",
             "minorgridcolor": "#506784",
             "startlinecolor": "#A2B1C6"
            },
            "type": "carpet"
           }
          ],
          "table": [
           {
            "cells": {
             "fill": {
              "color": "#506784"
             },
             "line": {
              "color": "rgb(17,17,17)"
             }
            },
            "header": {
             "fill": {
              "color": "#2a3f5f"
             },
             "line": {
              "color": "rgb(17,17,17)"
             }
            },
            "type": "table"
           }
          ],
          "barpolar": [
           {
            "marker": {
             "line": {
              "color": "rgb(17,17,17)",
              "width": 0.5
             },
             "pattern": {
              "fillmode": "overlay",
              "size": 10,
              "solidity": 0.2
             }
            },
            "type": "barpolar"
           }
          ],
          "pie": [
           {
            "automargin": true,
            "type": "pie"
           }
          ]
         },
         "layout": {
          "autotypenumbers": "strict",
          "colorway": [
           "#636efa",
           "#EF553B",
           "#00cc96",
           "#ab63fa",
           "#FFA15A",
           "#19d3f3",
           "#FF6692",
           "#B6E880",
           "#FF97FF",
           "#FECB52"
          ],
          "font": {
           "color": "#f2f5fa"
          },
          "hovermode": "closest",
          "hoverlabel": {
           "align": "left"
          },
          "paper_bgcolor": "rgb(17,17,17)",
          "plot_bgcolor": "rgb(17,17,17)",
          "polar": {
           "bgcolor": "rgb(17,17,17)",
           "angularaxis": {
            "gridcolor": "#506784",
            "linecolor": "#506784",
            "ticks": ""
           },
           "radialaxis": {
            "gridcolor": "#506784",
            "linecolor": "#506784",
            "ticks": ""
           }
          },
          "ternary": {
           "bgcolor": "rgb(17,17,17)",
           "aaxis": {
            "gridcolor": "#506784",
            "linecolor": "#506784",
            "ticks": ""
           },
           "baxis": {
            "gridcolor": "#506784",
            "linecolor": "#506784",
            "ticks": ""
           },
           "caxis": {
            "gridcolor": "#506784",
            "linecolor": "#506784",
            "ticks": ""
           }
          },
          "coloraxis": {
           "colorbar": {
            "outlinewidth": 0,
            "ticks": ""
           }
          },
          "colorscale": {
           "sequential": [
            [
             0.0,
             "#0d0887"
            ],
            [
             0.1111111111111111,
             "#46039f"
            ],
            [
             0.2222222222222222,
             "#7201a8"
            ],
            [
             0.3333333333333333,
             "#9c179e"
            ],
            [
             0.4444444444444444,
             "#bd3786"
            ],
            [
             0.5555555555555556,
             "#d8576b"
            ],
            [
             0.6666666666666666,
             "#ed7953"
            ],
            [
             0.7777777777777778,
             "#fb9f3a"
            ],
            [
             0.8888888888888888,
             "#fdca26"
            ],
            [
             1.0,
             "#f0f921"
            ]
           ],
           "sequentialminus": [
            [
             0.0,
             "#0d0887"
            ],
            [
             0.1111111111111111,
             "#46039f"
            ],
            [
             0.2222222222222222,
             "#7201a8"
            ],
            [
             0.3333333333333333,
             "#9c179e"
            ],
            [
             0.4444444444444444,
             "#bd3786"
            ],
            [
             0.5555555555555556,
             "#d8576b"
            ],
            [
             0.6666666666666666,
             "#ed7953"
            ],
            [
             0.7777777777777778,
             "#fb9f3a"
            ],
            [
             0.8888888888888888,
             "#fdca26"
            ],
            [
             1.0,
             "#f0f921"
            ]
           ],
           "diverging": [
            [
             0,
             "#8e0152"
            ],
            [
             0.1,
             "#c51b7d"
            ],
            [
             0.2,
             "#de77ae"
            ],
            [
             0.3,
             "#f1b6da"
            ],
            [
             0.4,
             "#fde0ef"
            ],
            [
             0.5,
             "#f7f7f7"
            ],
            [
             0.6,
             "#e6f5d0"
            ],
            [
             0.7,
             "#b8e186"
            ],
            [
             0.8,
             "#7fbc41"
            ],
            [
             0.9,
             "#4d9221"
            ],
            [
             1,
             "#276419"
            ]
           ]
          },
          "xaxis": {
           "gridcolor": "#283442",
           "linecolor": "#506784",
           "ticks": "",
           "title": {
            "standoff": 15
           },
           "zerolinecolor": "#283442",
           "automargin": true,
           "zerolinewidth": 2
          },
          "yaxis": {
           "gridcolor": "#283442",
           "linecolor": "#506784",
           "ticks": "",
           "title": {
            "standoff": 15
           },
           "zerolinecolor": "#283442",
           "automargin": true,
           "zerolinewidth": 2
          },
          "scene": {
           "xaxis": {
            "backgroundcolor": "rgb(17,17,17)",
            "gridcolor": "#506784",
            "linecolor": "#506784",
            "showbackground": true,
            "ticks": "",
            "zerolinecolor": "#C8D4E3",
            "gridwidth": 2
           },
           "yaxis": {
            "backgroundcolor": "rgb(17,17,17)",
            "gridcolor": "#506784",
            "linecolor": "#506784",
            "showbackground": true,
            "ticks": "",
            "zerolinecolor": "#C8D4E3",
            "gridwidth": 2
           },
           "zaxis": {
            "backgroundcolor": "rgb(17,17,17)",
            "gridcolor": "#506784",
            "linecolor": "#506784",
            "showbackground": true,
            "ticks": "",
            "zerolinecolor": "#C8D4E3",
            "gridwidth": 2
           }
          },
          "shapedefaults": {
           "line": {
            "color": "#f2f5fa"
           }
          },
          "annotationdefaults": {
           "arrowcolor": "#f2f5fa",
           "arrowhead": 0,
           "arrowwidth": 1
          },
          "geo": {
           "bgcolor": "rgb(17,17,17)",
           "landcolor": "rgb(17,17,17)",
           "subunitcolor": "#506784",
           "showland": true,
           "showlakes": true,
           "lakecolor": "rgb(17,17,17)"
          },
          "title": {
           "x": 0.05
          },
          "updatemenudefaults": {
           "bgcolor": "#506784",
           "borderwidth": 0
          },
          "sliderdefaults": {
           "bgcolor": "#C8D4E3",
           "borderwidth": 1,
           "bordercolor": "rgb(17,17,17)",
           "tickwidth": 0
          },
          "mapbox": {
           "style": "dark"
          }
         }
        }
       },
       "config": {
        "plotlyServerURL": "https://plot.ly"
       }
      },
      "text/html": "<div>                            <div id=\"bf410aec-9c41-46e3-b1e5-038443cbf6d3\" class=\"plotly-graph-div\" style=\"height:525px; width:100%;\"></div>            <script type=\"text/javascript\">                require([\"plotly\"], function(Plotly) {                    window.PLOTLYENV=window.PLOTLYENV || {};                                    if (document.getElementById(\"bf410aec-9c41-46e3-b1e5-038443cbf6d3\")) {                    Plotly.newPlot(                        \"bf410aec-9c41-46e3-b1e5-038443cbf6d3\",                        [{\"colorscale\":[[0.0,\"#0d0887\"],[0.1111111111111111,\"#46039f\"],[0.2222222222222222,\"#7201a8\"],[0.3333333333333333,\"#9c179e\"],[0.4444444444444444,\"#bd3786\"],[0.5555555555555556,\"#d8576b\"],[0.6666666666666666,\"#ed7953\"],[0.7777777777777778,\"#fb9f3a\"],[0.8888888888888888,\"#fdca26\"],[1.0,\"#f0f921\"]],\"reversescale\":false,\"showscale\":false,\"x\":[\"Free\",\"Not Free\"],\"y\":[\"Not Free\",\"Free\"],\"z\":[[198,302],[358,142]],\"type\":\"heatmap\"}],                        {\"annotations\":[{\"font\":{\"color\":\"#FFFFFF\"},\"showarrow\":false,\"text\":\"198\",\"x\":\"Free\",\"xref\":\"x\",\"y\":\"Not Free\",\"yref\":\"y\"},{\"font\":{\"color\":\"#000000\"},\"showarrow\":false,\"text\":\"302\",\"x\":\"Not Free\",\"xref\":\"x\",\"y\":\"Not Free\",\"yref\":\"y\"},{\"font\":{\"color\":\"#000000\"},\"showarrow\":false,\"text\":\"358\",\"x\":\"Free\",\"xref\":\"x\",\"y\":\"Free\",\"yref\":\"y\"},{\"font\":{\"color\":\"#FFFFFF\"},\"showarrow\":false,\"text\":\"142\",\"x\":\"Not Free\",\"xref\":\"x\",\"y\":\"Free\",\"yref\":\"y\"}],\"xaxis\":{\"dtick\":1,\"gridcolor\":\"rgb(0, 0, 0)\",\"side\":\"top\",\"ticks\":\"\"},\"yaxis\":{\"dtick\":1,\"ticks\":\"\",\"ticksuffix\":\"  \"},\"template\":{\"data\":{\"histogram2dcontour\":[{\"type\":\"histogram2dcontour\",\"colorbar\":{\"outlinewidth\":0,\"ticks\":\"\"},\"colorscale\":[[0.0,\"#0d0887\"],[0.1111111111111111,\"#46039f\"],[0.2222222222222222,\"#7201a8\"],[0.3333333333333333,\"#9c179e\"],[0.4444444444444444,\"#bd3786\"],[0.5555555555555556,\"#d8576b\"],[0.6666666666666666,\"#ed7953\"],[0.7777777777777778,\"#fb9f3a\"],[0.8888888888888888,\"#fdca26\"],[1.0,\"#f0f921\"]]}],\"choropleth\":[{\"type\":\"choropleth\",\"colorbar\":{\"outlinewidth\":0,\"ticks\":\"\"}}],\"histogram2d\":[{\"type\":\"histogram2d\",\"colorbar\":{\"outlinewidth\":0,\"ticks\":\"\"},\"colorscale\":[[0.0,\"#0d0887\"],[0.1111111111111111,\"#46039f\"],[0.2222222222222222,\"#7201a8\"],[0.3333333333333333,\"#9c179e\"],[0.4444444444444444,\"#bd3786\"],[0.5555555555555556,\"#d8576b\"],[0.6666666666666666,\"#ed7953\"],[0.7777777777777778,\"#fb9f3a\"],[0.8888888888888888,\"#fdca26\"],[1.0,\"#f0f921\"]]}],\"heatmap\":[{\"type\":\"heatmap\",\"colorbar\":{\"outlinewidth\":0,\"ticks\":\"\"},\"colorscale\":[[0.0,\"#0d0887\"],[0.1111111111111111,\"#46039f\"],[0.2222222222222222,\"#7201a8\"],[0.3333333333333333,\"#9c179e\"],[0.4444444444444444,\"#bd3786\"],[0.5555555555555556,\"#d8576b\"],[0.6666666666666666,\"#ed7953\"],[0.7777777777777778,\"#fb9f3a\"],[0.8888888888888888,\"#fdca26\"],[1.0,\"#f0f921\"]]}],\"heatmapgl\":[{\"type\":\"heatmapgl\",\"colorbar\":{\"outlinewidth\":0,\"ticks\":\"\"},\"colorscale\":[[0.0,\"#0d0887\"],[0.1111111111111111,\"#46039f\"],[0.2222222222222222,\"#7201a8\"],[0.3333333333333333,\"#9c179e\"],[0.4444444444444444,\"#bd3786\"],[0.5555555555555556,\"#d8576b\"],[0.6666666666666666,\"#ed7953\"],[0.7777777777777778,\"#fb9f3a\"],[0.8888888888888888,\"#fdca26\"],[1.0,\"#f0f921\"]]}],\"contourcarpet\":[{\"type\":\"contourcarpet\",\"colorbar\":{\"outlinewidth\":0,\"ticks\":\"\"}}],\"contour\":[{\"type\":\"contour\",\"colorbar\":{\"outlinewidth\":0,\"ticks\":\"\"},\"colorscale\":[[0.0,\"#0d0887\"],[0.1111111111111111,\"#46039f\"],[0.2222222222222222,\"#7201a8\"],[0.3333333333333333,\"#9c179e\"],[0.4444444444444444,\"#bd3786\"],[0.5555555555555556,\"#d8576b\"],[0.6666666666666666,\"#ed7953\"],[0.7777777777777778,\"#fb9f3a\"],[0.8888888888888888,\"#fdca26\"],[1.0,\"#f0f921\"]]}],\"surface\":[{\"type\":\"surface\",\"colorbar\":{\"outlinewidth\":0,\"ticks\":\"\"},\"colorscale\":[[0.0,\"#0d0887\"],[0.1111111111111111,\"#46039f\"],[0.2222222222222222,\"#7201a8\"],[0.3333333333333333,\"#9c179e\"],[0.4444444444444444,\"#bd3786\"],[0.5555555555555556,\"#d8576b\"],[0.6666666666666666,\"#ed7953\"],[0.7777777777777778,\"#fb9f3a\"],[0.8888888888888888,\"#fdca26\"],[1.0,\"#f0f921\"]]}],\"mesh3d\":[{\"type\":\"mesh3d\",\"colorbar\":{\"outlinewidth\":0,\"ticks\":\"\"}}],\"scatter\":[{\"marker\":{\"line\":{\"color\":\"#283442\"}},\"type\":\"scatter\"}],\"parcoords\":[{\"type\":\"parcoords\",\"line\":{\"colorbar\":{\"outlinewidth\":0,\"ticks\":\"\"}}}],\"scatterpolargl\":[{\"type\":\"scatterpolargl\",\"marker\":{\"colorbar\":{\"outlinewidth\":0,\"ticks\":\"\"}}}],\"bar\":[{\"error_x\":{\"color\":\"#f2f5fa\"},\"error_y\":{\"color\":\"#f2f5fa\"},\"marker\":{\"line\":{\"color\":\"rgb(17,17,17)\",\"width\":0.5},\"pattern\":{\"fillmode\":\"overlay\",\"size\":10,\"solidity\":0.2}},\"type\":\"bar\"}],\"scattergeo\":[{\"type\":\"scattergeo\",\"marker\":{\"colorbar\":{\"outlinewidth\":0,\"ticks\":\"\"}}}],\"scatterpolar\":[{\"type\":\"scatterpolar\",\"marker\":{\"colorbar\":{\"outlinewidth\":0,\"ticks\":\"\"}}}],\"histogram\":[{\"marker\":{\"pattern\":{\"fillmode\":\"overlay\",\"size\":10,\"solidity\":0.2}},\"type\":\"histogram\"}],\"scattergl\":[{\"marker\":{\"line\":{\"color\":\"#283442\"}},\"type\":\"scattergl\"}],\"scatter3d\":[{\"type\":\"scatter3d\",\"line\":{\"colorbar\":{\"outlinewidth\":0,\"ticks\":\"\"}},\"marker\":{\"colorbar\":{\"outlinewidth\":0,\"ticks\":\"\"}}}],\"scattermapbox\":[{\"type\":\"scattermapbox\",\"marker\":{\"colorbar\":{\"outlinewidth\":0,\"ticks\":\"\"}}}],\"scatterternary\":[{\"type\":\"scatterternary\",\"marker\":{\"colorbar\":{\"outlinewidth\":0,\"ticks\":\"\"}}}],\"scattercarpet\":[{\"type\":\"scattercarpet\",\"marker\":{\"colorbar\":{\"outlinewidth\":0,\"ticks\":\"\"}}}],\"carpet\":[{\"aaxis\":{\"endlinecolor\":\"#A2B1C6\",\"gridcolor\":\"#506784\",\"linecolor\":\"#506784\",\"minorgridcolor\":\"#506784\",\"startlinecolor\":\"#A2B1C6\"},\"baxis\":{\"endlinecolor\":\"#A2B1C6\",\"gridcolor\":\"#506784\",\"linecolor\":\"#506784\",\"minorgridcolor\":\"#506784\",\"startlinecolor\":\"#A2B1C6\"},\"type\":\"carpet\"}],\"table\":[{\"cells\":{\"fill\":{\"color\":\"#506784\"},\"line\":{\"color\":\"rgb(17,17,17)\"}},\"header\":{\"fill\":{\"color\":\"#2a3f5f\"},\"line\":{\"color\":\"rgb(17,17,17)\"}},\"type\":\"table\"}],\"barpolar\":[{\"marker\":{\"line\":{\"color\":\"rgb(17,17,17)\",\"width\":0.5},\"pattern\":{\"fillmode\":\"overlay\",\"size\":10,\"solidity\":0.2}},\"type\":\"barpolar\"}],\"pie\":[{\"automargin\":true,\"type\":\"pie\"}]},\"layout\":{\"autotypenumbers\":\"strict\",\"colorway\":[\"#636efa\",\"#EF553B\",\"#00cc96\",\"#ab63fa\",\"#FFA15A\",\"#19d3f3\",\"#FF6692\",\"#B6E880\",\"#FF97FF\",\"#FECB52\"],\"font\":{\"color\":\"#f2f5fa\"},\"hovermode\":\"closest\",\"hoverlabel\":{\"align\":\"left\"},\"paper_bgcolor\":\"rgb(17,17,17)\",\"plot_bgcolor\":\"rgb(17,17,17)\",\"polar\":{\"bgcolor\":\"rgb(17,17,17)\",\"angularaxis\":{\"gridcolor\":\"#506784\",\"linecolor\":\"#506784\",\"ticks\":\"\"},\"radialaxis\":{\"gridcolor\":\"#506784\",\"linecolor\":\"#506784\",\"ticks\":\"\"}},\"ternary\":{\"bgcolor\":\"rgb(17,17,17)\",\"aaxis\":{\"gridcolor\":\"#506784\",\"linecolor\":\"#506784\",\"ticks\":\"\"},\"baxis\":{\"gridcolor\":\"#506784\",\"linecolor\":\"#506784\",\"ticks\":\"\"},\"caxis\":{\"gridcolor\":\"#506784\",\"linecolor\":\"#506784\",\"ticks\":\"\"}},\"coloraxis\":{\"colorbar\":{\"outlinewidth\":0,\"ticks\":\"\"}},\"colorscale\":{\"sequential\":[[0.0,\"#0d0887\"],[0.1111111111111111,\"#46039f\"],[0.2222222222222222,\"#7201a8\"],[0.3333333333333333,\"#9c179e\"],[0.4444444444444444,\"#bd3786\"],[0.5555555555555556,\"#d8576b\"],[0.6666666666666666,\"#ed7953\"],[0.7777777777777778,\"#fb9f3a\"],[0.8888888888888888,\"#fdca26\"],[1.0,\"#f0f921\"]],\"sequentialminus\":[[0.0,\"#0d0887\"],[0.1111111111111111,\"#46039f\"],[0.2222222222222222,\"#7201a8\"],[0.3333333333333333,\"#9c179e\"],[0.4444444444444444,\"#bd3786\"],[0.5555555555555556,\"#d8576b\"],[0.6666666666666666,\"#ed7953\"],[0.7777777777777778,\"#fb9f3a\"],[0.8888888888888888,\"#fdca26\"],[1.0,\"#f0f921\"]],\"diverging\":[[0,\"#8e0152\"],[0.1,\"#c51b7d\"],[0.2,\"#de77ae\"],[0.3,\"#f1b6da\"],[0.4,\"#fde0ef\"],[0.5,\"#f7f7f7\"],[0.6,\"#e6f5d0\"],[0.7,\"#b8e186\"],[0.8,\"#7fbc41\"],[0.9,\"#4d9221\"],[1,\"#276419\"]]},\"xaxis\":{\"gridcolor\":\"#283442\",\"linecolor\":\"#506784\",\"ticks\":\"\",\"title\":{\"standoff\":15},\"zerolinecolor\":\"#283442\",\"automargin\":true,\"zerolinewidth\":2},\"yaxis\":{\"gridcolor\":\"#283442\",\"linecolor\":\"#506784\",\"ticks\":\"\",\"title\":{\"standoff\":15},\"zerolinecolor\":\"#283442\",\"automargin\":true,\"zerolinewidth\":2},\"scene\":{\"xaxis\":{\"backgroundcolor\":\"rgb(17,17,17)\",\"gridcolor\":\"#506784\",\"linecolor\":\"#506784\",\"showbackground\":true,\"ticks\":\"\",\"zerolinecolor\":\"#C8D4E3\",\"gridwidth\":2},\"yaxis\":{\"backgroundcolor\":\"rgb(17,17,17)\",\"gridcolor\":\"#506784\",\"linecolor\":\"#506784\",\"showbackground\":true,\"ticks\":\"\",\"zerolinecolor\":\"#C8D4E3\",\"gridwidth\":2},\"zaxis\":{\"backgroundcolor\":\"rgb(17,17,17)\",\"gridcolor\":\"#506784\",\"linecolor\":\"#506784\",\"showbackground\":true,\"ticks\":\"\",\"zerolinecolor\":\"#C8D4E3\",\"gridwidth\":2}},\"shapedefaults\":{\"line\":{\"color\":\"#f2f5fa\"}},\"annotationdefaults\":{\"arrowcolor\":\"#f2f5fa\",\"arrowhead\":0,\"arrowwidth\":1},\"geo\":{\"bgcolor\":\"rgb(17,17,17)\",\"landcolor\":\"rgb(17,17,17)\",\"subunitcolor\":\"#506784\",\"showland\":true,\"showlakes\":true,\"lakecolor\":\"rgb(17,17,17)\"},\"title\":{\"x\":0.05},\"updatemenudefaults\":{\"bgcolor\":\"#506784\",\"borderwidth\":0},\"sliderdefaults\":{\"bgcolor\":\"#C8D4E3\",\"borderwidth\":1,\"bordercolor\":\"rgb(17,17,17)\",\"tickwidth\":0},\"mapbox\":{\"style\":\"dark\"}}}},                        {\"responsive\": true}                    ).then(function(){\n                            \nvar gd = document.getElementById('bf410aec-9c41-46e3-b1e5-038443cbf6d3');\nvar x = new MutationObserver(function (mutations, observer) {{\n        var display = window.getComputedStyle(gd).display;\n        if (!display || display === 'none') {{\n            console.log([gd, 'removed!']);\n            Plotly.purge(gd);\n            observer.disconnect();\n        }}\n}});\n\n// Listen for the removal of the full notebook cells\nvar notebookContainer = gd.closest('#notebook-container');\nif (notebookContainer) {{\n    x.observe(notebookContainer, {childList: true});\n}}\n\n// Listen for the clearing of the current output cell\nvar outputEl = gd.closest('.output');\nif (outputEl) {{\n    x.observe(outputEl, {childList: true});\n}}\n\n                        })                };                });            </script>        </div>"
     },
     "metadata": {},
     "output_type": "display_data"
    }
   ],
   "source": [
    "from sklearn.metrics import confusion_matrix\n",
    "import numpy as np\n",
    "import plotly.figure_factory as ff\n",
    "matrix = confusion_matrix(y_test.values, y_pred)\n",
    "matrix = np.flip(matrix, axis=0)\n",
    "fig = ff.create_annotated_heatmap(matrix,[\"Free\", \"Not Free\"], [\"Not Free\", \"Free\"])\n",
    "fig.show()\n"
   ]
  },
  {
   "cell_type": "code",
   "execution_count": 361,
   "metadata": {
    "colab": {
     "base_uri": "https://localhost:8080/"
    },
    "id": "ROcbQFw42i9R",
    "outputId": "4763a199-ee8e-4bdc-bed0-0b534897d4dc"
   },
   "outputs": [
    {
     "data": {
      "text/plain": "<Figure size 1800x600 with 2 Axes>",
      "image/png": "[encoded data removed]"
     },
     "metadata": {},
     "output_type": "display_data"
    }
   ],
   "source": [
    "# Plot the loss and accuracy curves over epochs:\n",
    "import matplotlib.pyplot as plt\n",
    "fig, axs = plt.subplots(nrows=1, ncols=2, figsize=(18,6))\n",
    "axs[0].plot(History.history['loss'], color='b', label='Training loss')\n",
    "axs[0].plot(History.history['val_loss'], color='r', label='Validation loss')\n",
    "axs[0].set_title(\"Loss curves\")\n",
    "axs[0].legend(loc='best', shadow=True)\n",
    "axs[1].plot(History.history['accuracy'], color='b', label='Training accuracy')\n",
    "axs[1].plot(History.history['val_accuracy'], color='r', label='Validation accuracy')\n",
    "axs[1].set_title(\"Accuracy curves\")\n",
    "axs[1].legend(loc='best', shadow=True)\n",
    "plt.show()"
   ]
  }
 ],
 "metadata": {
  "colab": {
   "collapsed_sections": [],
   "provenance": []
  },
  "kernelspec": {
   "display_name": "Python 3",
   "name": "python3"
  },
  "language_info": {
   "name": "python"
  }
 },
 "nbformat": 4,
 "nbformat_minor": 0
}
